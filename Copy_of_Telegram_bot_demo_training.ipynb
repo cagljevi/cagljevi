{
  "nbformat": 4,
  "nbformat_minor": 0,
  "metadata": {
    "colab": {
      "provenance": [],
      "authorship_tag": "ABX9TyMys6iTPfgLz7h3jPb0BCPM",
      "include_colab_link": true
    },
    "kernelspec": {
      "name": "python3",
      "display_name": "Python 3"
    },
    "language_info": {
      "name": "python"
    }
  },
  "cells": [
    {
      "cell_type": "markdown",
      "metadata": {
        "id": "view-in-github",
        "colab_type": "text"
      },
      "source": [
        "<a href=\"https://colab.research.google.com/github/cagljevi/cagljevi/blob/main/Copy_of_Telegram_bot_demo_training.ipynb\" target=\"_parent\"><img src=\"https://colab.research.google.com/assets/colab-badge.svg\" alt=\"Open In Colab\"/></a>"
      ]
    },
    {
      "cell_type": "markdown",
      "source": [
        "# Read Data from Groups"
      ],
      "metadata": {
        "id": "K7nKtKmXuvbr"
      }
    },
    {
      "cell_type": "code",
      "source": [
        "import requests\n",
        "\n",
        "base_url = \"YOUR_API_KEY_HERE\"\n",
        "\n",
        "parameters = {\n",
        "    \"offset\" : \"123456789\"\n",
        "\n",
        "}\n",
        "\n",
        "resp = requests.get(base_url, data = parameters)\n",
        "\n",
        "print(resp.text)"
      ],
      "metadata": {
        "id": "iciDtNbMuutZ"
      },
      "execution_count": null,
      "outputs": []
    },
    {
      "cell_type": "markdown",
      "source": [
        "# Sending Messages\n",
        "Send Message\n",
        "\n"
      ],
      "metadata": {
        "id": "SR3RmmeXybCo"
      }
    },
    {
      "cell_type": "code",
      "source": [
        "import requests\n",
        "import time\n",
        "\n",
        "base_url = \"https://api.telegram.org/botAPI_KEY/sendMessage\"\n",
        "\n",
        "jokes = [\"I invented a new word!\", \"joke2\", \"joke 3\", \"joke 4\"]\n",
        "\n",
        "for joke in jokes:\n",
        "  time.sleep (10)\n",
        "\n",
        "  parameters = {\n",
        "      \"chat_id\" : \"-4575598427\",\n",
        "      \"text\" : joke\n",
        "  }\n",
        "\n",
        "  resp = requests.get(base_url, params = parameters)\n",
        "  print(resp.text)\n"
      ],
      "metadata": {
        "id": "siTqorbvuiee"
      },
      "execution_count": null,
      "outputs": []
    },
    {
      "cell_type": "markdown",
      "source": [
        "# Sending photo\n",
        "send photo"
      ],
      "metadata": {
        "id": "08bykcY7-Btg"
      }
    },
    {
      "cell_type": "code",
      "source": [
        "import requests\n",
        "import time\n",
        "\n",
        "\n",
        "base_url = \"https://api.telegram.org/botAPI_KEY/sendPhoto\"\n",
        "\n",
        "parameters = {\n",
        "\n",
        "      \"chat_id\" : \"-1234567890\",\n",
        "      \"photo\" :  \"https://unsplash.com/photos/a-long-exposure-photo-of-a-bridge-at-night-5H78RbMaEmY\",\n",
        "      \"caption\" : \"here is a city photo for you\"\n",
        "}\n",
        "\n",
        "resp = requests.get(base_url, params = parameters)\n",
        "print(resp.text)\n"
      ],
      "metadata": {
        "id": "_4jzmSkf2FHT"
      },
      "execution_count": null,
      "outputs": []
    },
    {
      "cell_type": "markdown",
      "source": [
        "# Sending Multiple Photos\n",
        "Send multiple photos"
      ],
      "metadata": {
        "id": "p9T7sUQE-MF_"
      }
    },
    {
      "cell_type": "code",
      "source": [
        "import requests\n",
        "import time\n",
        "\n",
        "\n",
        "base_url = \"https://api.telegram.org/botAPI_KEY/sendPhoto\"\n",
        "\n",
        "urls = [\n",
        "        \"https://unsplash.com/photos/a-long-exposure-photo-of-a-bridge-at-night-5H78RbMaEmY\",\n",
        "        \"https://unsplash.com/photos/green-grass-with-water-dew-q9x4rdGR_Pc\",\n",
        "        \"https://unsplash.com/photos/a-shadow-of-a-person-hitting-a-tennis-ball-HoGXwBxGC4w\"\n",
        "\n",
        "]\n",
        "\n",
        "for url in urls:\n",
        " time.sleep(10)\n",
        " parameters = {\n",
        "\n",
        "       \"chat_id\" : \"-1234567890\",\n",
        "       \"photo\" :  url,\n",
        "       \"caption\" : \"here is a city photo for you\"\n",
        " }\n",
        "\n",
        " resp = requests.get(base_url, params = parameters)\n",
        " print(resp.text)"
      ],
      "metadata": {
        "id": "3io6Fz1F8LKu"
      },
      "execution_count": null,
      "outputs": []
    },
    {
      "cell_type": "markdown",
      "source": [],
      "metadata": {
        "id": "osLmmjlWusfm"
      }
    },
    {
      "cell_type": "code",
      "source": [],
      "metadata": {
        "id": "lKcGQxfk-dBm"
      },
      "execution_count": 4,
      "outputs": []
    },
    {
      "cell_type": "code",
      "source": [
        "import requests\n",
        "import time\n",
        "\n",
        "\n",
        "base_url = \"https://api.telegram.org/botAPI_KEY/sendAudio\"\n",
        "\n",
        "parameters = {\n",
        "\n",
        "      \"chat_id\" : \"-1234567890\",\n",
        "      \"audio\" :  \"https://www.bensound.com/bensound-music/bensound-dreams.mp3\",\n",
        "      \"caption\" : \"here is an audio file for you\"\n",
        "}\n",
        "\n",
        "resp = requests.get(base_url, params = parameters)\n",
        "print(resp.text)\n"
      ],
      "metadata": {
        "id": "WteZO5pE-dhq"
      },
      "execution_count": null,
      "outputs": []
    },
    {
      "cell_type": "code",
      "source": [
        "import requests\n",
        "import time\n",
        "\n",
        "\n",
        "base_url = \"https://api.telegram.org/botAPI_KEY_HERE/sendAudio\"\n",
        "\n",
        "\n",
        "audio_url = \"https://www.bensound.com/bensound-music/bensound-dawnofchange.mp3\"\n",
        "\n",
        "\n",
        "parameters = {\n",
        "      \"chat_id\" : \"-1234567890\",\n",
        "      \"caption\" : \"here is another audio file for you\",\n",
        "      \"audio\" : audio_url\n",
        "}\n",
        "\n",
        "\n",
        "resp = requests.get(base_url, params = parameters)\n",
        "\n",
        "print(resp.text)\n"
      ],
      "metadata": {
        "id": "GtCB033YFtuP"
      },
      "execution_count": null,
      "outputs": []
    },
    {
      "cell_type": "markdown",
      "source": [
        "# Sending a CSV File"
      ],
      "metadata": {
        "id": "rFFFH2eLLWJt"
      }
    },
    {
      "cell_type": "code",
      "source": [
        "import requests\n",
        "import time\n",
        "\n",
        "\n",
        "base_url = \"https://api.telegram.org/botAPI_KEY/sendDocument\"\n",
        "\n",
        "\n",
        "my_file = open(\"//content/sample_data/mnist_train_small.csv\", \"rb\")\n",
        "\n",
        "parameters = {\n",
        "      \"chat_id\" : \"-1234567890\",\n",
        "      \"caption\" : \"here is another document for you\"\n",
        "}\n",
        "\n",
        "files = {\n",
        "    \"document\" : my_file\n",
        "}\n",
        "\n",
        "resp = requests.get(base_url, params = parameters, files=files)\n",
        "print(resp.text)\n"
      ],
      "metadata": {
        "id": "vxuHGXP_Lb9P"
      },
      "execution_count": null,
      "outputs": []
    },
    {
      "cell_type": "markdown",
      "source": [
        "# Start Creating Chatbot"
      ],
      "metadata": {
        "id": "TeOVFdVSM252"
      }
    },
    {
      "cell_type": "code",
      "source": [
        "import requests\n",
        "\n",
        "base_url = \"https://api.telegram.org/botYOUR_API_KEY_HERE\"\n",
        "\n",
        "\n",
        "\n",
        "\n",
        "\n",
        "def read_msg():\n",
        "\n",
        "\n",
        "  parameters = {\n",
        "      \"offset\" : \"1234567890\"\n",
        "\n",
        "\n",
        "  }\n",
        "\n",
        "\n",
        "\n",
        "  resp = requests.get(base_url + \"/getUpdates\", data = parameters)\n",
        "  data = resp.json()\n",
        "\n",
        "  for result in data[\"result\"]:\n",
        "    if \"hi\" in result[\"message\"][\"text\"]:\n",
        "      send_msg()\n",
        "\n",
        "\n",
        "\n",
        "def send_msg():\n",
        "    parameters = {\n",
        "      \"chat_id\" : \"-0987654321\",\n",
        "      \"text\" : \"Hello !!!\"\n",
        "   }\n",
        "\n",
        "\n",
        "    resp = requests.get(base_url + \"/SendMessage\", data = parameters)\n",
        "    print(resp.text)\n",
        "\n",
        "\n",
        "read_msg()\n"
      ],
      "metadata": {
        "id": "RaHeyGSJM6wG"
      },
      "execution_count": null,
      "outputs": []
    },
    {
      "cell_type": "code",
      "source": [],
      "metadata": {
        "id": "GIHk1GbTTtFH"
      },
      "execution_count": null,
      "outputs": []
    }
  ]
}