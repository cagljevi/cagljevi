{
  "nbformat": 4,
  "nbformat_minor": 0,
  "metadata": {
    "colab": {
      "provenance": [],
      "authorship_tag": "ABX9TyMys6iTPfgLz7h3jPb0BCPM",
      "include_colab_link": true
    },
    "kernelspec": {
      "name": "python3",
      "display_name": "Python 3"
    },
    "language_info": {
      "name": "python"
    }
  },
  "cells": [
    {
      "cell_type": "markdown",
      "metadata": {
        "id": "view-in-github",
        "colab_type": "text"
      },
      "source": [
        "<a href=\"https://colab.research.google.com/github/cagljevi/cagljevi/blob/main/Copy_of_bot_demo_training.ipynb\" target=\"_parent\"><img src=\"https://colab.research.google.com/assets/colab-badge.svg\" alt=\"Open In Colab\"/></a>"
      ]
    },
    {
      "cell_type": "markdown",
      "source": [
        "# Read Data from Groups"
      ],
      "metadata": {
        "id": "K7nKtKmXuvbr"
      }
    },
    {
      "cell_type": "code",
      "source": [
        "import requests\n",
        "\n",
        "base_url = \"YOUR_API_KEY_HERE\"\n",
        "\n",
        "parameters = {\n",
        "    \"offset\" : \"123456789\"\n",
        "\n",
        "}\n",
        "\n",
        "resp = requests.get(base_url, data = parameters)\n",
        "\n",
        "print(resp.text)"
      ],
      "metadata": {
        "id": "iciDtNbMuutZ",
        "colab": {
          "base_uri": "https://localhost:8080/",
          "height": 365
        },
        "outputId": "d860ced5-0c5c-4ade-f564-39d656e7cbda"
      },
      "execution_count": 1,
      "outputs": [
        {
          "output_type": "error",
          "ename": "MissingSchema",
          "evalue": "Invalid URL 'YOUR_API_KEY_HERE': No scheme supplied. Perhaps you meant https://YOUR_API_KEY_HERE?",
          "traceback": [
            "\u001b[0;31m---------------------------------------------------------------------------\u001b[0m",
            "\u001b[0;31mMissingSchema\u001b[0m                             Traceback (most recent call last)",
            "\u001b[0;32m<ipython-input-1-80cf0d4efecd>\u001b[0m in \u001b[0;36m<cell line: 10>\u001b[0;34m()\u001b[0m\n\u001b[1;32m      8\u001b[0m }\n\u001b[1;32m      9\u001b[0m \u001b[0;34m\u001b[0m\u001b[0m\n\u001b[0;32m---> 10\u001b[0;31m \u001b[0mresp\u001b[0m \u001b[0;34m=\u001b[0m \u001b[0mrequests\u001b[0m\u001b[0;34m.\u001b[0m\u001b[0mget\u001b[0m\u001b[0;34m(\u001b[0m\u001b[0mbase_url\u001b[0m\u001b[0;34m,\u001b[0m \u001b[0mdata\u001b[0m \u001b[0;34m=\u001b[0m \u001b[0mparameters\u001b[0m\u001b[0;34m)\u001b[0m\u001b[0;34m\u001b[0m\u001b[0;34m\u001b[0m\u001b[0m\n\u001b[0m\u001b[1;32m     11\u001b[0m \u001b[0;34m\u001b[0m\u001b[0m\n\u001b[1;32m     12\u001b[0m \u001b[0mprint\u001b[0m\u001b[0;34m(\u001b[0m\u001b[0mresp\u001b[0m\u001b[0;34m.\u001b[0m\u001b[0mtext\u001b[0m\u001b[0;34m)\u001b[0m\u001b[0;34m\u001b[0m\u001b[0;34m\u001b[0m\u001b[0m\n",
            "\u001b[0;32m/usr/local/lib/python3.10/dist-packages/requests/api.py\u001b[0m in \u001b[0;36mget\u001b[0;34m(url, params, **kwargs)\u001b[0m\n\u001b[1;32m     71\u001b[0m     \"\"\"\n\u001b[1;32m     72\u001b[0m \u001b[0;34m\u001b[0m\u001b[0m\n\u001b[0;32m---> 73\u001b[0;31m     \u001b[0;32mreturn\u001b[0m \u001b[0mrequest\u001b[0m\u001b[0;34m(\u001b[0m\u001b[0;34m\"get\"\u001b[0m\u001b[0;34m,\u001b[0m \u001b[0murl\u001b[0m\u001b[0;34m,\u001b[0m \u001b[0mparams\u001b[0m\u001b[0;34m=\u001b[0m\u001b[0mparams\u001b[0m\u001b[0;34m,\u001b[0m \u001b[0;34m**\u001b[0m\u001b[0mkwargs\u001b[0m\u001b[0;34m)\u001b[0m\u001b[0;34m\u001b[0m\u001b[0;34m\u001b[0m\u001b[0m\n\u001b[0m\u001b[1;32m     74\u001b[0m \u001b[0;34m\u001b[0m\u001b[0m\n\u001b[1;32m     75\u001b[0m \u001b[0;34m\u001b[0m\u001b[0m\n",
            "\u001b[0;32m/usr/local/lib/python3.10/dist-packages/requests/api.py\u001b[0m in \u001b[0;36mrequest\u001b[0;34m(method, url, **kwargs)\u001b[0m\n\u001b[1;32m     57\u001b[0m     \u001b[0;31m# cases, and look like a memory leak in others.\u001b[0m\u001b[0;34m\u001b[0m\u001b[0;34m\u001b[0m\u001b[0m\n\u001b[1;32m     58\u001b[0m     \u001b[0;32mwith\u001b[0m \u001b[0msessions\u001b[0m\u001b[0;34m.\u001b[0m\u001b[0mSession\u001b[0m\u001b[0;34m(\u001b[0m\u001b[0;34m)\u001b[0m \u001b[0;32mas\u001b[0m \u001b[0msession\u001b[0m\u001b[0;34m:\u001b[0m\u001b[0;34m\u001b[0m\u001b[0;34m\u001b[0m\u001b[0m\n\u001b[0;32m---> 59\u001b[0;31m         \u001b[0;32mreturn\u001b[0m \u001b[0msession\u001b[0m\u001b[0;34m.\u001b[0m\u001b[0mrequest\u001b[0m\u001b[0;34m(\u001b[0m\u001b[0mmethod\u001b[0m\u001b[0;34m=\u001b[0m\u001b[0mmethod\u001b[0m\u001b[0;34m,\u001b[0m \u001b[0murl\u001b[0m\u001b[0;34m=\u001b[0m\u001b[0murl\u001b[0m\u001b[0;34m,\u001b[0m \u001b[0;34m**\u001b[0m\u001b[0mkwargs\u001b[0m\u001b[0;34m)\u001b[0m\u001b[0;34m\u001b[0m\u001b[0;34m\u001b[0m\u001b[0m\n\u001b[0m\u001b[1;32m     60\u001b[0m \u001b[0;34m\u001b[0m\u001b[0m\n\u001b[1;32m     61\u001b[0m \u001b[0;34m\u001b[0m\u001b[0m\n",
            "\u001b[0;32m/usr/local/lib/python3.10/dist-packages/requests/sessions.py\u001b[0m in \u001b[0;36mrequest\u001b[0;34m(self, method, url, params, data, headers, cookies, files, auth, timeout, allow_redirects, proxies, hooks, stream, verify, cert, json)\u001b[0m\n\u001b[1;32m    573\u001b[0m             \u001b[0mhooks\u001b[0m\u001b[0;34m=\u001b[0m\u001b[0mhooks\u001b[0m\u001b[0;34m,\u001b[0m\u001b[0;34m\u001b[0m\u001b[0;34m\u001b[0m\u001b[0m\n\u001b[1;32m    574\u001b[0m         )\n\u001b[0;32m--> 575\u001b[0;31m         \u001b[0mprep\u001b[0m \u001b[0;34m=\u001b[0m \u001b[0mself\u001b[0m\u001b[0;34m.\u001b[0m\u001b[0mprepare_request\u001b[0m\u001b[0;34m(\u001b[0m\u001b[0mreq\u001b[0m\u001b[0;34m)\u001b[0m\u001b[0;34m\u001b[0m\u001b[0;34m\u001b[0m\u001b[0m\n\u001b[0m\u001b[1;32m    576\u001b[0m \u001b[0;34m\u001b[0m\u001b[0m\n\u001b[1;32m    577\u001b[0m         \u001b[0mproxies\u001b[0m \u001b[0;34m=\u001b[0m \u001b[0mproxies\u001b[0m \u001b[0;32mor\u001b[0m \u001b[0;34m{\u001b[0m\u001b[0;34m}\u001b[0m\u001b[0;34m\u001b[0m\u001b[0;34m\u001b[0m\u001b[0m\n",
            "\u001b[0;32m/usr/local/lib/python3.10/dist-packages/requests/sessions.py\u001b[0m in \u001b[0;36mprepare_request\u001b[0;34m(self, request)\u001b[0m\n\u001b[1;32m    482\u001b[0m \u001b[0;34m\u001b[0m\u001b[0m\n\u001b[1;32m    483\u001b[0m         \u001b[0mp\u001b[0m \u001b[0;34m=\u001b[0m \u001b[0mPreparedRequest\u001b[0m\u001b[0;34m(\u001b[0m\u001b[0;34m)\u001b[0m\u001b[0;34m\u001b[0m\u001b[0;34m\u001b[0m\u001b[0m\n\u001b[0;32m--> 484\u001b[0;31m         p.prepare(\n\u001b[0m\u001b[1;32m    485\u001b[0m             \u001b[0mmethod\u001b[0m\u001b[0;34m=\u001b[0m\u001b[0mrequest\u001b[0m\u001b[0;34m.\u001b[0m\u001b[0mmethod\u001b[0m\u001b[0;34m.\u001b[0m\u001b[0mupper\u001b[0m\u001b[0;34m(\u001b[0m\u001b[0;34m)\u001b[0m\u001b[0;34m,\u001b[0m\u001b[0;34m\u001b[0m\u001b[0;34m\u001b[0m\u001b[0m\n\u001b[1;32m    486\u001b[0m             \u001b[0murl\u001b[0m\u001b[0;34m=\u001b[0m\u001b[0mrequest\u001b[0m\u001b[0;34m.\u001b[0m\u001b[0murl\u001b[0m\u001b[0;34m,\u001b[0m\u001b[0;34m\u001b[0m\u001b[0;34m\u001b[0m\u001b[0m\n",
            "\u001b[0;32m/usr/local/lib/python3.10/dist-packages/requests/models.py\u001b[0m in \u001b[0;36mprepare\u001b[0;34m(self, method, url, headers, files, data, params, auth, cookies, hooks, json)\u001b[0m\n\u001b[1;32m    365\u001b[0m \u001b[0;34m\u001b[0m\u001b[0m\n\u001b[1;32m    366\u001b[0m         \u001b[0mself\u001b[0m\u001b[0;34m.\u001b[0m\u001b[0mprepare_method\u001b[0m\u001b[0;34m(\u001b[0m\u001b[0mmethod\u001b[0m\u001b[0;34m)\u001b[0m\u001b[0;34m\u001b[0m\u001b[0;34m\u001b[0m\u001b[0m\n\u001b[0;32m--> 367\u001b[0;31m         \u001b[0mself\u001b[0m\u001b[0;34m.\u001b[0m\u001b[0mprepare_url\u001b[0m\u001b[0;34m(\u001b[0m\u001b[0murl\u001b[0m\u001b[0;34m,\u001b[0m \u001b[0mparams\u001b[0m\u001b[0;34m)\u001b[0m\u001b[0;34m\u001b[0m\u001b[0;34m\u001b[0m\u001b[0m\n\u001b[0m\u001b[1;32m    368\u001b[0m         \u001b[0mself\u001b[0m\u001b[0;34m.\u001b[0m\u001b[0mprepare_headers\u001b[0m\u001b[0;34m(\u001b[0m\u001b[0mheaders\u001b[0m\u001b[0;34m)\u001b[0m\u001b[0;34m\u001b[0m\u001b[0;34m\u001b[0m\u001b[0m\n\u001b[1;32m    369\u001b[0m         \u001b[0mself\u001b[0m\u001b[0;34m.\u001b[0m\u001b[0mprepare_cookies\u001b[0m\u001b[0;34m(\u001b[0m\u001b[0mcookies\u001b[0m\u001b[0;34m)\u001b[0m\u001b[0;34m\u001b[0m\u001b[0;34m\u001b[0m\u001b[0m\n",
            "\u001b[0;32m/usr/local/lib/python3.10/dist-packages/requests/models.py\u001b[0m in \u001b[0;36mprepare_url\u001b[0;34m(self, url, params)\u001b[0m\n\u001b[1;32m    436\u001b[0m \u001b[0;34m\u001b[0m\u001b[0m\n\u001b[1;32m    437\u001b[0m         \u001b[0;32mif\u001b[0m \u001b[0;32mnot\u001b[0m \u001b[0mscheme\u001b[0m\u001b[0;34m:\u001b[0m\u001b[0;34m\u001b[0m\u001b[0;34m\u001b[0m\u001b[0m\n\u001b[0;32m--> 438\u001b[0;31m             raise MissingSchema(\n\u001b[0m\u001b[1;32m    439\u001b[0m                 \u001b[0;34mf\"Invalid URL {url!r}: No scheme supplied. \"\u001b[0m\u001b[0;34m\u001b[0m\u001b[0;34m\u001b[0m\u001b[0m\n\u001b[1;32m    440\u001b[0m                 \u001b[0;34mf\"Perhaps you meant https://{url}?\"\u001b[0m\u001b[0;34m\u001b[0m\u001b[0;34m\u001b[0m\u001b[0m\n",
            "\u001b[0;31mMissingSchema\u001b[0m: Invalid URL 'YOUR_API_KEY_HERE': No scheme supplied. Perhaps you meant https://YOUR_API_KEY_HERE?"
          ]
        }
      ]
    },
    {
      "cell_type": "markdown",
      "source": [
        "# Sending Messages\n",
        "Send Message\n",
        "\n"
      ],
      "metadata": {
        "id": "SR3RmmeXybCo"
      }
    },
    {
      "cell_type": "code",
      "source": [
        "import requests\n",
        "import time\n",
        "\n",
        "base_url = \"https://api.telegram.org/botAPI_KEY/sendMessage\"\n",
        "\n",
        "jokes = [\"I invented a new word!\", \"joke2\", \"joke 3\", \"joke 4\"]\n",
        "\n",
        "for joke in jokes:\n",
        "  time.sleep (10)\n",
        "\n",
        "  parameters = {\n",
        "      \"chat_id\" : \"-4575598427\",\n",
        "      \"text\" : joke\n",
        "  }\n",
        "\n",
        "  resp = requests.get(base_url, params = parameters)\n",
        "  print(resp.text)\n"
      ],
      "metadata": {
        "colab": {
          "base_uri": "https://localhost:8080/"
        },
        "id": "siTqorbvuiee",
        "outputId": "f4ddeb20-ac54-472c-d266-6bcb0c31d69f"
      },
      "execution_count": 2,
      "outputs": [
        {
          "output_type": "stream",
          "name": "stdout",
          "text": [
            "{\"ok\":false,\"error_code\":404,\"description\":\"Not Found\"}\n",
            "{\"ok\":false,\"error_code\":404,\"description\":\"Not Found\"}\n",
            "{\"ok\":false,\"error_code\":404,\"description\":\"Not Found\"}\n",
            "{\"ok\":false,\"error_code\":404,\"description\":\"Not Found\"}\n"
          ]
        }
      ]
    },
    {
      "cell_type": "markdown",
      "source": [
        "# Sending photo\n",
        "send photo"
      ],
      "metadata": {
        "id": "08bykcY7-Btg"
      }
    },
    {
      "cell_type": "code",
      "source": [
        "import requests\n",
        "import time\n",
        "\n",
        "\n",
        "base_url = \"https://api.telegram.org/botAPI_KEY/sendPhoto\"\n",
        "\n",
        "parameters = {\n",
        "\n",
        "      \"chat_id\" : \"-1234567890\",\n",
        "      \"photo\" :  \"https://unsplash.com/photos/a-long-exposure-photo-of-a-bridge-at-night-5H78RbMaEmY\",\n",
        "      \"caption\" : \"here is a city photo for you\"\n",
        "}\n",
        "\n",
        "resp = requests.get(base_url, params = parameters)\n",
        "print(resp.text)\n"
      ],
      "metadata": {
        "colab": {
          "base_uri": "https://localhost:8080/"
        },
        "id": "_4jzmSkf2FHT",
        "outputId": "438a366e-4cbe-477c-8b73-418a34207811"
      },
      "execution_count": 3,
      "outputs": [
        {
          "output_type": "stream",
          "name": "stdout",
          "text": [
            "{\"ok\":false,\"error_code\":404,\"description\":\"Not Found\"}\n"
          ]
        }
      ]
    },
    {
      "cell_type": "markdown",
      "source": [
        "# Sending Multiple Photos\n",
        "Send multiple photos"
      ],
      "metadata": {
        "id": "p9T7sUQE-MF_"
      }
    },
    {
      "cell_type": "code",
      "source": [
        "import requests\n",
        "import time\n",
        "\n",
        "\n",
        "base_url = \"https://api.telegram.org/botAPI_KEY/sendPhoto\"\n",
        "\n",
        "urls = [\n",
        "        \"https://unsplash.com/photos/a-long-exposure-photo-of-a-bridge-at-night-5H78RbMaEmY\",\n",
        "        \"https://unsplash.com/photos/green-grass-with-water-dew-q9x4rdGR_Pc\",\n",
        "        \"https://unsplash.com/photos/a-shadow-of-a-person-hitting-a-tennis-ball-HoGXwBxGC4w\"\n",
        "\n",
        "]\n",
        "\n",
        "for url in urls:\n",
        " time.sleep(10)\n",
        " parameters = {\n",
        "\n",
        "       \"chat_id\" : \"-1234567890\",\n",
        "       \"photo\" :  url,\n",
        "       \"caption\" : \"here is a city photo for you\"\n",
        " }\n",
        "\n",
        " resp = requests.get(base_url, params = parameters)\n",
        " print(resp.text)"
      ],
      "metadata": {
        "id": "3io6Fz1F8LKu"
      },
      "execution_count": null,
      "outputs": []
    },
    {
      "cell_type": "markdown",
      "source": [],
      "metadata": {
        "id": "osLmmjlWusfm"
      }
    },
    {
      "cell_type": "code",
      "source": [],
      "metadata": {
        "id": "lKcGQxfk-dBm"
      },
      "execution_count": null,
      "outputs": []
    },
    {
      "cell_type": "code",
      "source": [
        "import requests\n",
        "import time\n",
        "\n",
        "\n",
        "base_url = \"https://api.telegram.org/botAPI_KEY/sendAudio\"\n",
        "\n",
        "parameters = {\n",
        "\n",
        "      \"chat_id\" : \"-1234567890\",\n",
        "      \"audio\" :  \"https://www.bensound.com/bensound-music/bensound-dreams.mp3\",\n",
        "      \"caption\" : \"here is an audio file for you\"\n",
        "}\n",
        "\n",
        "resp = requests.get(base_url, params = parameters)\n",
        "print(resp.text)\n"
      ],
      "metadata": {
        "id": "WteZO5pE-dhq"
      },
      "execution_count": null,
      "outputs": []
    },
    {
      "cell_type": "code",
      "source": [
        "import requests\n",
        "import time\n",
        "\n",
        "\n",
        "base_url = \"https://api.telegram.org/botAPI_KEY_HERE/sendAudio\"\n",
        "\n",
        "\n",
        "audio_url = \"https://www.bensound.com/bensound-music/bensound-dawnofchange.mp3\"\n",
        "\n",
        "\n",
        "parameters = {\n",
        "      \"chat_id\" : \"-1234567890\",\n",
        "      \"caption\" : \"here is another audio file for you\",\n",
        "      \"audio\" : audio_url\n",
        "}\n",
        "\n",
        "\n",
        "resp = requests.get(base_url, params = parameters)\n",
        "\n",
        "print(resp.text)\n"
      ],
      "metadata": {
        "id": "GtCB033YFtuP"
      },
      "execution_count": null,
      "outputs": []
    },
    {
      "cell_type": "markdown",
      "source": [
        "# Sending a CSV File"
      ],
      "metadata": {
        "id": "rFFFH2eLLWJt"
      }
    },
    {
      "cell_type": "code",
      "source": [
        "import requests\n",
        "import time\n",
        "\n",
        "\n",
        "base_url = \"https://api.telegram.org/botAPI_KEY/sendDocument\"\n",
        "\n",
        "\n",
        "my_file = open(\"//content/sample_data/mnist_train_small.csv\", \"rb\")\n",
        "\n",
        "parameters = {\n",
        "      \"chat_id\" : \"-1234567890\",\n",
        "      \"caption\" : \"here is another document for you\"\n",
        "}\n",
        "\n",
        "files = {\n",
        "    \"document\" : my_file\n",
        "}\n",
        "\n",
        "resp = requests.get(base_url, params = parameters, files=files)\n",
        "print(resp.text)\n"
      ],
      "metadata": {
        "id": "vxuHGXP_Lb9P"
      },
      "execution_count": null,
      "outputs": []
    },
    {
      "cell_type": "markdown",
      "source": [
        "# Start Creating Chatbot"
      ],
      "metadata": {
        "id": "TeOVFdVSM252"
      }
    },
    {
      "cell_type": "code",
      "source": [
        "import requests\n",
        "\n",
        "base_url = \"https://api.telegram.org/botYOUR_API_KEY_HERE\"\n",
        "\n",
        "\n",
        "\n",
        "\n",
        "\n",
        "def read_msg():\n",
        "\n",
        "\n",
        "  parameters = {\n",
        "      \"offset\" : \"1234567890\"\n",
        "\n",
        "\n",
        "  }\n",
        "\n",
        "\n",
        "\n",
        "  resp = requests.get(base_url + \"/getUpdates\", data = parameters)\n",
        "  data = resp.json()\n",
        "\n",
        "  for result in data[\"result\"]:\n",
        "    if \"hi\" in result[\"message\"][\"text\"]:\n",
        "      send_msg()\n",
        "\n",
        "\n",
        "\n",
        "def send_msg():\n",
        "    parameters = {\n",
        "      \"chat_id\" : \"-0987654321\",\n",
        "      \"text\" : \"Hello !!!\"\n",
        "   }\n",
        "\n",
        "\n",
        "    resp = requests.get(base_url + \"/SendMessage\", data = parameters)\n",
        "    print(resp.text)\n",
        "\n",
        "\n",
        "read_msg()\n"
      ],
      "metadata": {
        "id": "RaHeyGSJM6wG"
      },
      "execution_count": null,
      "outputs": []
    },
    {
      "cell_type": "code",
      "source": [],
      "metadata": {
        "id": "GIHk1GbTTtFH"
      },
      "execution_count": null,
      "outputs": []
    }
  ]
}